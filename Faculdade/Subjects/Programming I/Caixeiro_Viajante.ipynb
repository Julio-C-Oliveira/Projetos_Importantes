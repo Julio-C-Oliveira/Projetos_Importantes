{
  "cells": [
    {
      "cell_type": "markdown",
      "source": [
        "# **Problema do Caixeiro Viajante:**\n",
        "**Definição:** Encontrar o caminho mais curto, que visite todas as cidades somente uma vez e retorne para a origem.\n",
        "*   Solução 01: Força Bruta, testa todas as opções possivéis, para achar a melhor resposta, porém o custo computacional aumenta exponencialmente com o aumento do número de cidades.\n",
        "*   Solução 02: Grasp, testa um número reduzido de opções, não garante a melhor resposta, mas uma boa resposta, o custo computacional é drasticamente reduzido."
      ],
      "metadata": {
        "id": "V-W86AOs0FtD"
      }
    },
    {
      "cell_type": "markdown",
      "source": [
        "## **Código:**"
      ],
      "metadata": {
        "id": "UTHiPcKWAVhj"
      }
    },
    {
      "cell_type": "code",
      "source": [
        "import random as r\n",
        "\n",
        "class CaixeiroViajante:\n",
        "    def __init__(self, cidades:list, ligacoes:dict, distancia:dict):\n",
        "        self.cidades = cidades\n",
        "        self.ligacaoEntreCidades = ligacoes\n",
        "        self.distanciaEntreCidades = distancia\n",
        "        self.interacoes = 0\n",
        "\n",
        "    def combinacoesPossiveis(self, cidades:list):\n",
        "        if len(cidades) <= 1:\n",
        "            return [cidades]\n",
        "\n",
        "        combinacoes = []\n",
        "\n",
        "        for i in range(len(cidades)):\n",
        "            cidadeAtual = cidades[i]\n",
        "            cidadeRestantes = cidades[:i] + cidades[i+1:]\n",
        "\n",
        "            outrasCidades = self.combinacoesPossiveis(cidadeRestantes)\n",
        "\n",
        "            for cidade in outrasCidades:\n",
        "                combinacoes.append([cidadeAtual] + cidade)\n",
        "\n",
        "                self.interacoes += 1\n",
        "\n",
        "        return combinacoes\n",
        "\n",
        "    def retornoAoInicio(self, combinacoes):\n",
        "      for combinacao in combinacoes:\n",
        "        combinacao.append(combinacao[0])\n",
        "\n",
        "        self.interacoes += 1\n",
        "\n",
        "      return combinacoes\n",
        "\n",
        "    def buscarElemento(self, lista:list, elemento):\n",
        "        for i in range(len(lista)):\n",
        "\n",
        "            self.interacoes += 1\n",
        "\n",
        "            if lista[i] == elemento:\n",
        "                return i\n",
        "\n",
        "    def getDistanciaEntreCidades(self, cidadeA, cidadeB):\n",
        "        ligacoes = self.ligacaoEntreCidades[cidadeA]\n",
        "        localizacao = self.buscarElemento(ligacoes, cidadeB)\n",
        "        return self.distanciaEntreCidades[cidadeA][localizacao]\n",
        "\n",
        "    def calcularDistancias(self, rotas:list):\n",
        "        distancias = []\n",
        "        for rota in rotas:\n",
        "            distancia = 0\n",
        "            for cidade in range(len(rota)-1):\n",
        "                cidadeAtual = rota[cidade]\n",
        "                proximaCidade = rota[cidade+1]\n",
        "                distancia += self.getDistanciaEntreCidades(cidadeAtual, proximaCidade)\n",
        "\n",
        "                self.interacoes += 1\n",
        "\n",
        "            distancias.append(distancia)\n",
        "\n",
        "        return distancias\n",
        "\n",
        "    def menorDistanciaGeral(self, distancias):\n",
        "        menorDistancia = distancias[0]\n",
        "        rota = None\n",
        "\n",
        "        for i in range(len(distancias)):\n",
        "\n",
        "            self.interacoes += 1\n",
        "\n",
        "            if distancias[i] <= menorDistancia:\n",
        "                menorDistancia = distancias[i]\n",
        "                rota = i\n",
        "\n",
        "        return rota\n",
        "\n",
        "    def cortarLista(self, rotas, alvo):\n",
        "        if len(rotas) > 0:\n",
        "            pontos = []\n",
        "            for i in range(len(rotas)):\n",
        "                if rotas[i][0] == alvo:\n",
        "                    pontos.append(i)\n",
        "\n",
        "                    self.interacoes += 1\n",
        "\n",
        "            return pontos[0], pontos[len(pontos)-1]\n",
        "\n",
        "    def menorDistanciaSeletiva(self, distancias, rotas, opcao):\n",
        "        menorDistancia = distancias[0]\n",
        "        rota = None\n",
        "\n",
        "        pontoA, pontoB = self.cortarLista(rotas, opcao)\n",
        "\n",
        "        for i in range(pontoA, pontoB):\n",
        "\n",
        "            self.interacoes += 1\n",
        "\n",
        "            if distancias[i] <= menorDistancia:\n",
        "                menorDistancia = distancias[i]\n",
        "                rota = i\n",
        "\n",
        "        return rota\n",
        "\n",
        "\n",
        "    def forcaBruta(self, opcao):\n",
        "        self.interacoes = 0\n",
        "        rotas = self.combinacoesPossiveis(self.cidades)\n",
        "        rotas = self.retornoAoInicio(rotas)\n",
        "        distancias = self.calcularDistancias(rotas)\n",
        "\n",
        "        if opcao == \"\":\n",
        "            rota = self.menorDistanciaGeral(distancias)\n",
        "        elif opcao in self.cidades:\n",
        "            rota = self.menorDistanciaSeletiva(distancias, rotas, opcao)\n",
        "\n",
        "        return rotas[rota], distancias[rota], self.interacoes\n",
        "\n",
        "    def cidadeMaisProxima(self, cidade, cidadesVisitadas):\n",
        "        distancias = self.distanciaEntreCidades[cidade]\n",
        "        ligacoes = self.ligacaoEntreCidades[cidade]\n",
        "        menorDistancia = distancias[0]*500\n",
        "        indiceDaCidade = None\n",
        "\n",
        "        for i in range(len(distancias)):\n",
        "            self.interacoes += 1\n",
        "            if distancias[i] <= menorDistancia and ligacoes[i] not in cidadesVisitadas:\n",
        "                menorDistancia = distancias[i]\n",
        "                indiceDaCidade = i\n",
        "\n",
        "        return ligacoes[indiceDaCidade]\n",
        "\n",
        "    def solucaoInicial(self, cidade):\n",
        "        rota = []\n",
        "        rota.append(cidade)\n",
        "\n",
        "        for i in range(len(self.cidades)-1):\n",
        "            self.interacoes += 1\n",
        "            cidadeAtual = rota[len(rota)-1]\n",
        "            rota.append(self.cidadeMaisProxima(cidadeAtual, rota))\n",
        "\n",
        "        return rota\n",
        "\n",
        "    def trocarElementos(self, a, b, lista):\n",
        "        listaAlterada = [None]*len(lista)\n",
        "        for i in range(len(lista)):\n",
        "            self.interacoes += 1\n",
        "            if i != a and i != b:\n",
        "                listaAlterada[i] = lista[i]\n",
        "            elif i == a:\n",
        "                listaAlterada[i+1] = lista[i]\n",
        "            elif i == b:\n",
        "                listaAlterada[i-1] = lista[i]\n",
        "\n",
        "        return listaAlterada\n",
        "\n",
        "    def calcularDistanciaPercorrida(self, rota):\n",
        "        distancia = 0\n",
        "        for cidade in range(len(rota)-1):\n",
        "            cidadeAtual = rota[cidade]\n",
        "            proximaCidade = rota[cidade+1]\n",
        "            distancia += self.getDistanciaEntreCidades(cidadeAtual, proximaCidade)\n",
        "\n",
        "            self.interacoes += 1\n",
        "\n",
        "            self.interacoes += 1\n",
        "\n",
        "        return distancia\n",
        "\n",
        "    def buscaLocal(self, rota, numDeBuscas):\n",
        "        for num in range(numDeBuscas):\n",
        "            for i in range(len(rota)-2):\n",
        "                self.interacoes += 1\n",
        "                rotaAlternativa = self.trocarElementos(i+1, i+2, rota)\n",
        "\n",
        "                if self.calcularDistanciaPercorrida(rotaAlternativa) <= self.calcularDistanciaPercorrida(rota):\n",
        "                    rota = rotaAlternativa\n",
        "\n",
        "        rota.append(rota[0])\n",
        "        return rota\n",
        "\n",
        "    def removerElemento(self, lista, elemento):\n",
        "        listaAlterada = [None]*(len(lista)-1)\n",
        "        alteracao = 0\n",
        "        for i in range(len(lista)):\n",
        "            self.interacoes += 1\n",
        "            if lista[i] != elemento:\n",
        "                listaAlterada[i-alteracao] = lista[i]\n",
        "            else:\n",
        "                alteracao += 1\n",
        "\n",
        "        return listaAlterada\n",
        "\n",
        "    def grasp(self, numDeBuscas:int, numDeRepeticoes:int, alvo:str):\n",
        "        if numDeRepeticoes > len(self.cidades):\n",
        "            print(\"O número de buscas não pode ser maior que o número de cidades\")\n",
        "        else:\n",
        "            self.interacoes = 0\n",
        "            rotas = []\n",
        "            cidadesValidas = self.cidades\n",
        "\n",
        "            if alvo == \"\":\n",
        "                for i in range(numDeRepeticoes):\n",
        "                    cidadeEscolhida = r.choice(cidadesValidas)\n",
        "                    cidadesValidas = self.removerElemento(cidadesValidas, cidadeEscolhida)\n",
        "\n",
        "                    rotaInicial = self.solucaoInicial(cidadeEscolhida)\n",
        "                    rotaMediana = self.buscaLocal(rotaInicial, numDeBuscas)\n",
        "                    rotas.append(rotaMediana)\n",
        "\n",
        "                    self.interacoes += 1\n",
        "\n",
        "                distancias = self.calcularDistancias(rotas)\n",
        "            else:\n",
        "                cidadeEscolhida = alvo\n",
        "                cidadesValidas = self.removerElemento(cidadesValidas, cidadeEscolhida)\n",
        "\n",
        "                rotaInicial = self.solucaoInicial(cidadeEscolhida)\n",
        "                rotaMediana = self.buscaLocal(rotaInicial, numDeBuscas)\n",
        "                rotas.append(rotaMediana)\n",
        "\n",
        "                self.interacoes += 1\n",
        "\n",
        "                distancias = self.calcularDistancias(rotas)\n",
        "\n",
        "\n",
        "            menorDistancia = distancias[0]\n",
        "            indice = 0\n",
        "\n",
        "            for i in range(len(distancias)):\n",
        "                if distancias[i] <= menorDistancia:\n",
        "                    menorDistancia = distancias[i]\n",
        "                    indice = i\n",
        "\n",
        "                    self.interacoes += 1\n",
        "\n",
        "            return rotas[indice], distancias[indice], self.interacoes"
      ],
      "metadata": {
        "id": "Q9SxyauqApTT"
      },
      "execution_count": null,
      "outputs": []
    },
    {
      "cell_type": "markdown",
      "source": [
        "# **Explicação dos Métodos:**\n",
        "## Força Bruta:\n",
        "Simples ele testa todas as opções possiveis e retorna a melhor.\n",
        "\n",
        "## Grasp:\n",
        "Como Funciona:\n",
        "1.   Solução Inicial: escolha deterministica ou randomica da rota inicial.\n",
        "2.   Busca Local: mudanças de posições para ver se o custo diminui.\n",
        "3.   Atualiação da melhor solução: caso o custo diminua, a rota original é substituida.\n",
        "4.   Criterio de Parada: número de vezes que a busca local vai se repetir.\n",
        "5.   Repetição do Processo: número de vezes que tudo vai se repetir\n",
        "\n",
        "\n"
      ],
      "metadata": {
        "id": "bv_Hl-IBBTfC"
      }
    },
    {
      "cell_type": "markdown",
      "source": [
        "# **Comparações:**\n",
        "A comparação vai ser feita para 3, 6 e 9 cidades."
      ],
      "metadata": {
        "id": "8-kevtPWBB8n"
      }
    },
    {
      "cell_type": "markdown",
      "source": [
        "## **Declarando as váriaveis:**"
      ],
      "metadata": {
        "id": "GCaf-VizDawt"
      }
    },
    {
      "cell_type": "code",
      "source": [
        "cidades03 = [\"A\", \"B\", \"C\"]\n",
        "ligacaoEntreCidades03 = {\n",
        "    \"A\": [\"B\", \"C\"],\n",
        "    \"B\": [\"A\", \"C\"],\n",
        "    \"C\": [\"A\", \"B\"]\n",
        "}\n",
        "distanciaEntreCidades03 = {\n",
        "    \"A\": [7, 15],\n",
        "    \"B\": [7, 7],\n",
        "    \"C\": [15, 7]\n",
        "}\n",
        "\n",
        "\n",
        "\n",
        "cidades06 = [\"A\", \"B\", \"C\", \"D\", \"E\", \"F\"]\n",
        "ligacaoEntreCidades06 = {\n",
        "    \"A\": [\"B\", \"C\", \"D\", \"E\", \"F\"],\n",
        "    \"B\": [\"A\", \"C\", \"D\", \"E\", \"F\"],\n",
        "    \"C\": [\"A\", \"B\", \"D\", \"E\", \"F\"],\n",
        "    \"D\": [\"A\", \"B\", \"C\", \"E\", \"F\"],\n",
        "    \"E\": [\"A\", \"B\", \"C\", \"D\", \"F\"],\n",
        "    \"F\": [\"A\", \"B\", \"C\", \"D\", \"E\"]\n",
        "}\n",
        "distanciaEntreCidades06 = {\n",
        "    \"A\": [7, 15, 10, 30, 75],\n",
        "    \"B\": [7, 7, 13, 18, 65],\n",
        "    \"C\": [15, 7, 20, 25, 89],\n",
        "    \"D\": [10, 13, 20, 20, 45],\n",
        "    \"E\": [30, 18, 25, 20, 90],\n",
        "    \"F\": [75, 65, 89, 45, 90]\n",
        "}\n",
        "\n",
        "\n",
        "\n",
        "cidades09 = [\"A\", \"B\", \"C\", \"D\", \"E\", \"F\", \"G\", \"H\", \"I\"]\n",
        "ligacaoEntreCidades09 = {\n",
        "    \"A\": [\"B\", \"C\", \"D\", \"E\", \"F\", \"G\", \"H\", \"I\"],\n",
        "    \"B\": [\"A\", \"C\", \"D\", \"E\", \"F\", \"G\", \"H\", \"I\"],\n",
        "    \"C\": [\"A\", \"B\", \"D\", \"E\", \"F\", \"G\", \"H\", \"I\"],\n",
        "    \"D\": [\"A\", \"B\", \"C\", \"E\", \"F\", \"G\", \"H\", \"I\"],\n",
        "    \"E\": [\"A\", \"B\", \"C\", \"D\", \"F\", \"G\", \"H\", \"I\"],\n",
        "    \"F\": [\"A\", \"B\", \"C\", \"D\", \"E\", \"G\", \"H\", \"I\"],\n",
        "    \"G\": [\"A\", \"B\", \"C\", \"D\", \"E\", \"F\", \"H\", \"I\"],\n",
        "    \"H\": [\"A\", \"B\", \"C\", \"D\", \"E\", \"F\", \"G\", \"I\"],\n",
        "    \"I\": [\"A\", \"B\", \"C\", \"D\", \"E\", \"F\", \"G\", \"H\"]\n",
        "}\n",
        "distanciaEntreCidades09 = {\n",
        "    \"A\": [7, 15, 10, 30, 75, 25, 54, 32],\n",
        "    \"B\": [7, 7, 13, 18, 65, 50, 60, 70],\n",
        "    \"C\": [15, 7, 20, 25, 89, 45, 92, 43],\n",
        "    \"D\": [10, 13, 20, 20, 45, 70, 59, 78],\n",
        "    \"E\": [30, 18, 25, 20, 90, 23, 47, 67],\n",
        "    \"F\": [75, 65, 89, 45, 90, 11, 87, 12],\n",
        "    \"G\": [25, 50, 45, 70, 23, 11, 48, 76],\n",
        "    \"H\": [54, 60, 92, 59, 47, 87, 48, 99],\n",
        "    \"I\": [32, 70, 43, 78, 67, 12, 76, 99]\n",
        "}\n",
        "\n",
        "\n",
        "\n",
        "cidades12 = [\"A\", \"B\", \"C\", \"D\", \"E\", \"F\", \"G\", \"H\", \"I\", \"J\", \"K\", \"L\"]\n",
        "ligacaoEntreCidades12 = {\n",
        "    \"A\": [\"B\", \"C\", \"D\", \"E\", \"F\", \"G\", \"H\", \"I\", \"J\", \"K\", \"L\"],\n",
        "    \"B\": [\"A\", \"C\", \"D\", \"E\", \"F\", \"G\", \"H\", \"I\", \"J\", \"K\", \"L\"],\n",
        "    \"C\": [\"A\", \"B\", \"D\", \"E\", \"F\", \"G\", \"H\", \"I\", \"J\", \"K\", \"L\"],\n",
        "    \"D\": [\"A\", \"B\", \"C\", \"E\", \"F\", \"G\", \"H\", \"I\", \"J\", \"K\", \"L\"],\n",
        "    \"E\": [\"A\", \"B\", \"C\", \"D\", \"F\", \"G\", \"H\", \"I\", \"J\", \"K\", \"L\"],\n",
        "    \"F\": [\"A\", \"B\", \"C\", \"D\", \"E\", \"G\", \"H\", \"I\", \"J\", \"K\", \"L\"],\n",
        "    \"G\": [\"A\", \"B\", \"C\", \"D\", \"E\", \"F\", \"H\", \"I\", \"J\", \"K\", \"L\"],\n",
        "    \"H\": [\"A\", \"B\", \"C\", \"D\", \"E\", \"F\", \"G\", \"I\", \"J\", \"K\", \"L\"],\n",
        "    \"I\": [\"A\", \"B\", \"C\", \"D\", \"E\", \"F\", \"G\", \"H\", \"J\", \"K\", \"L\"],\n",
        "    \"J\": [\"A\", \"B\", \"C\", \"D\", \"E\", \"F\", \"G\", \"H\", \"I\", \"K\", \"L\"],\n",
        "    \"K\": [\"A\", \"B\", \"C\", \"D\", \"E\", \"F\", \"G\", \"H\", \"I\", \"J\", \"L\"],\n",
        "    \"L\": [\"A\", \"B\", \"C\", \"D\", \"E\", \"F\", \"G\", \"H\", \"I\", \"J\", \"K\"]\n",
        "}\n",
        "distanciaEntreCidades12 = {\n",
        "    \"A\": [7, 15, 10, 30, 75, 25, 54, 32, 33, 44, 66],\n",
        "    \"B\": [7, 7, 13, 18, 65, 50, 60, 70, 12, 44, 55],\n",
        "    \"C\": [15, 7, 20, 25, 89, 45, 92, 43, 72, 33, 34],\n",
        "    \"D\": [10, 13, 20, 20, 45, 70, 59, 78, 16, 58, 71],\n",
        "    \"E\": [30, 18, 25, 20, 90, 23, 47, 67, 78, 9, 46],\n",
        "    \"F\": [75, 65, 89, 45, 90, 11, 87, 12, 73, 95, 71],\n",
        "    \"G\": [25, 50, 45, 70, 23, 11, 48, 76, 61, 29, 86],\n",
        "    \"H\": [54, 60, 92, 59, 47, 87, 48, 99, 64, 41, 42],\n",
        "    \"I\": [32, 70, 43, 78, 67, 12, 76, 99, 88, 90, 83],\n",
        "    \"J\": [33, 12, 72, 16, 78, 73, 61, 64, 88, 66, 92],\n",
        "    \"K\": [44, 44, 33, 58, 9, 95, 29, 41, 90, 66, 36],\n",
        "    \"L\": [66, 55, 34, 71, 46, 71, 86, 42, 83, 92, 36]\n",
        "}"
      ],
      "metadata": {
        "id": "QkLxSghTCgVo"
      },
      "execution_count": null,
      "outputs": []
    },
    {
      "cell_type": "markdown",
      "source": [
        "## **Com três cidades (A, B, C):**\n",
        "### Força Bruta:\n",
        "Rápido e retornou a melhor opção.\n",
        "### Grasp:\n",
        "Alcançou um bom resultado, mas demorou mais."
      ],
      "metadata": {
        "id": "THLPxgA0Ct7M"
      }
    },
    {
      "cell_type": "code",
      "source": [
        "cidadeDeLargada = \"\"\n",
        "cidades = cidades03\n",
        "ligacaoEntreCidades = ligacaoEntreCidades03\n",
        "distanciaEntreCidades = distanciaEntreCidades03\n",
        "\n",
        "caixeiro = CaixeiroViajante(cidades, ligacaoEntreCidades, distanciaEntreCidades)\n",
        "\n",
        "rota, distancia, interacoes = caixeiro.forcaBruta(cidadeDeLargada)\n",
        "print(f\"\\nForça Bruta:\\nMelhor rota: {rota}\\nDistancia percorrida: {distancia}\\nInteracoes: {interacoes}\")\n",
        "\n",
        "rota, distancia, interacoes = caixeiro.grasp(2, 3, cidadeDeLargada) # 2 = número de repetições do método de busca local; 3 = número de largadas testadas\n",
        "print(f\"\\nGrasp:\\nMelhor rota: {rota}\\nDistancia percorrida: {distancia}\\nInteracoes: {interacoes}\")"
      ],
      "metadata": {
        "colab": {
          "base_uri": "https://localhost:8080/"
        },
        "id": "XW6PARchDNs5",
        "outputId": "da4a9d33-b275-47f9-8d45-6eda1afd8ea1"
      },
      "execution_count": null,
      "outputs": [
        {
          "output_type": "stream",
          "name": "stdout",
          "text": [
            "\n",
            "Força Bruta:\n",
            "Melhor rota: ['C', 'B', 'A', 'C']\n",
            "Distancia percorrida: 29\n",
            "Interacoes: 69\n",
            "\n",
            "Grasp:\n",
            "Melhor rota: ['B', 'C', 'A', 'B']\n",
            "Distancia percorrida: 29\n",
            "Interacoes: 160\n"
          ]
        }
      ]
    },
    {
      "cell_type": "markdown",
      "source": [
        "## **Com seis cidades (A, B, C, D, E, F):**\n",
        "### Força Bruta:\n",
        "Demorou, mas retornou a melhor opção.\n",
        "### Grasp:\n",
        "Alcançou um bom resultado muito rápido."
      ],
      "metadata": {
        "id": "Yx9FkhjLDmi2"
      }
    },
    {
      "cell_type": "code",
      "source": [
        "cidadeDeLargada = \"\"\n",
        "cidades = cidades06\n",
        "ligacaoEntreCidades = ligacaoEntreCidades06\n",
        "distanciaEntreCidades = distanciaEntreCidades06\n",
        "\n",
        "caixeiro = CaixeiroViajante(cidades, ligacaoEntreCidades, distanciaEntreCidades)\n",
        "\n",
        "rota, distancia, interacoes = caixeiro.forcaBruta(cidadeDeLargada)\n",
        "print(f\"\\nForça Bruta:\\nMelhor rota: {rota}\\nDistancia percorrida: {distancia}\\nInteracoes: {interacoes}\")\n",
        "\n",
        "rota, distancia, interacoes = caixeiro.grasp(2, 6, cidadeDeLargada) # 2 = número de repetições do método de busca local; 6 = número de largadas testadas\n",
        "print(f\"\\nGrasp:\\nMelhor rota: {rota}\\nDistancia percorrida: {distancia}\\nInteracoes: {interacoes}\")"
      ],
      "metadata": {
        "colab": {
          "base_uri": "https://localhost:8080/"
        },
        "id": "fO3wPkVGECN2",
        "outputId": "dbce4cd3-4ac1-4623-ba2e-eec602860dd6"
      },
      "execution_count": null,
      "outputs": [
        {
          "output_type": "stream",
          "name": "stdout",
          "text": [
            "\n",
            "Força Bruta:\n",
            "Melhor rota: ['F', 'D', 'E', 'C', 'A', 'B', 'F']\n",
            "Distancia percorrida: 177\n",
            "Interacoes: 22320\n",
            "\n",
            "Grasp:\n",
            "Melhor rota: ['B', 'A', 'C', 'E', 'D', 'F', 'B']\n",
            "Distancia percorrida: 177\n",
            "Interacoes: 3029\n"
          ]
        }
      ]
    },
    {
      "cell_type": "markdown",
      "source": [
        "## **Com nove cidades (A, B, C, D, E, F, G, H, I):**\n",
        "### Força Bruta:\n",
        "Demorou bastante, mas retornou a melhor opção.\n",
        "### Grasp:\n",
        "Alcançou um bom resultado rapidamente."
      ],
      "metadata": {
        "id": "L4EkcnDmE1Rb"
      }
    },
    {
      "cell_type": "code",
      "source": [
        "cidadeDeLargada = \"\"\n",
        "cidades = cidades09\n",
        "ligacaoEntreCidades = ligacaoEntreCidades09\n",
        "distanciaEntreCidades = distanciaEntreCidades09\n",
        "\n",
        "caixeiro = CaixeiroViajante(cidades, ligacaoEntreCidades, distanciaEntreCidades)\n",
        "\n",
        "rota, distancia, interacoes = caixeiro.forcaBruta(cidadeDeLargada)\n",
        "print(f\"\\nForça Bruta:\\nMelhor rota: {rota}\\nDistancia percorrida: {distancia}\\nInteracoes: {interacoes}\")\n",
        "\n",
        "rota, distancia, interacoes = caixeiro.grasp(2, 9, cidadeDeLargada) # 2 = número de repetições do método de busca local; 9 = número de largadas testadas\n",
        "print(f\"\\nGrasp:\\nMelhor rota: {rota}\\nDistancia percorrida: {distancia}\\nInteracoes: {interacoes}\")"
      ],
      "metadata": {
        "colab": {
          "base_uri": "https://localhost:8080/"
        },
        "id": "VmbFPdOyFDLC",
        "outputId": "8e6d104e-585e-4f80-9120-ac254d3ed225"
      },
      "execution_count": null,
      "outputs": [
        {
          "output_type": "stream",
          "name": "stdout",
          "text": [
            "\n",
            "Força Bruta:\n",
            "Melhor rota: ['I', 'F', 'G', 'H', 'E', 'D', 'C', 'B', 'A', 'I']\n",
            "Distancia percorrida: 204\n",
            "Interacoes: 21591360\n",
            "\n",
            "Grasp:\n",
            "Melhor rota: ['G', 'F', 'I', 'A', 'B', 'C', 'D', 'E', 'H', 'G']\n",
            "Distancia percorrida: 204\n",
            "Interacoes: 15347\n"
          ]
        }
      ]
    },
    {
      "cell_type": "markdown",
      "source": [
        "## **Com doze cidades (A, B, C, D, E, F, G, H, I, J, K, L):**\n",
        "### Força Bruta:\n",
        "Não ressolveu porque crashou o COLAB, uso extremo da mémoria ram.\n",
        "### Grasp:\n",
        "Alcançou um resultado em um bom tempo."
      ],
      "metadata": {
        "id": "8mlhiA70IcNl"
      }
    },
    {
      "cell_type": "code",
      "source": [
        "cidadeDeLargada = \"\"\n",
        "cidades = cidades12\n",
        "ligacaoEntreCidades = ligacaoEntreCidades12\n",
        "distanciaEntreCidades = distanciaEntreCidades12\n",
        "\n",
        "caixeiro = CaixeiroViajante(cidades, ligacaoEntreCidades, distanciaEntreCidades)\n",
        "\n",
        "#rota, distancia, interacoes = caixeiro.forcaBruta(cidadeDeLargada)\n",
        "#print(f\"\\nForça Bruta:\\nMelhor rota: {rota}\\nDistancia percorrida: {distancia}\\nInteracoes: {interacoes}\")\n",
        "\n",
        "rota, distancia, interacoes = caixeiro.grasp(2, 12, cidadeDeLargada) # 2 = número de repetições do método de busca local; 12 = número de largadas testadas\n",
        "print(f\"\\nGrasp:\\nMelhor rota: {rota}\\nDistancia percorrida: {distancia}\\nInteracoes: {interacoes}\")"
      ],
      "metadata": {
        "colab": {
          "base_uri": "https://localhost:8080/"
        },
        "id": "yVtVP_y2ImJC",
        "outputId": "31c92b99-773f-4819-bf52-7d1a82c06e93"
      },
      "execution_count": null,
      "outputs": [
        {
          "output_type": "stream",
          "name": "stdout",
          "text": [
            "\n",
            "Grasp:\n",
            "Melhor rota: ['E', 'K', 'G', 'F', 'I', 'A', 'B', 'C', 'D', 'J', 'H', 'L', 'E']\n",
            "Distancia percorrida: 295\n",
            "Interacoes: 47931\n"
          ]
        }
      ]
    }
  ],
  "metadata": {
    "colab": {
      "collapsed_sections": [
        "UTHiPcKWAVhj",
        "8-kevtPWBB8n",
        "GCaf-VizDawt",
        "THLPxgA0Ct7M",
        "Yx9FkhjLDmi2",
        "L4EkcnDmE1Rb",
        "8mlhiA70IcNl"
      ],
      "provenance": []
    },
    "kernelspec": {
      "display_name": "Python 3",
      "name": "python3"
    },
    "language_info": {
      "name": "python"
    }
  },
  "nbformat": 4,
  "nbformat_minor": 0
}